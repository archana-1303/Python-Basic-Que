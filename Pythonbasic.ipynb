{
 "cells": [
  {
   "cell_type": "code",
   "execution_count": 2,
   "id": "d998c843-324d-45d0-9b72-1c6bad1f3f67",
   "metadata": {},
   "outputs": [
    {
     "name": "stdout",
     "output_type": "stream",
     "text": [
      "Hello, World!\n"
     ]
    }
   ],
   "source": [
    "# 1 Write a Python program to print \"Hello, World!_\n",
    "print(\"Hello, World!\")\n"
   ]
  },
  {
   "cell_type": "code",
   "execution_count": 6,
   "id": "8b5fa39a-3c4a-4075-a545-0a8357c79460",
   "metadata": {},
   "outputs": [
    {
     "name": "stdout",
     "output_type": "stream",
     "text": [
      "Archana 23\n"
     ]
    }
   ],
   "source": [
    "# 2 Write a Python program that displays your name and age\n",
    "name = \"Archana\"\n",
    "age = 23\n",
    "print(name, age)"
   ]
  },
  {
   "cell_type": "code",
   "execution_count": 7,
   "id": "45ce8f59-ee0d-4453-ad09-7262c2a09afb",
   "metadata": {},
   "outputs": [
    {
     "name": "stdout",
     "output_type": "stream",
     "text": [
      "Python Keywords:\n",
      "['False', 'None', 'True', 'and', 'as', 'assert', 'async', 'await', 'break', 'class', 'continue', 'def', 'del', 'elif', 'else', 'except', 'finally', 'for', 'from', 'global', 'if', 'import', 'in', 'is', 'lambda', 'nonlocal', 'not', 'or', 'pass', 'raise', 'return', 'try', 'while', 'with', 'yield']\n"
     ]
    }
   ],
   "source": [
    "# 3 Write code to print all the pre-defined keywords in Python using the keyword library\n",
    "import keyword\n",
    "\n",
    "print(\"Python Keywords:\")\n",
    "print(keyword.kwlist)\n"
   ]
  },
  {
   "cell_type": "code",
   "execution_count": 9,
   "id": "001c9ed1-dc04-4006-81a6-5b40a4bc104e",
   "metadata": {},
   "outputs": [
    {
     "name": "stdin",
     "output_type": "stream",
     "text": [
      "Enter a word to check if it's python keyword: Hello\n"
     ]
    },
    {
     "name": "stdout",
     "output_type": "stream",
     "text": [
      "'Hello' is not a Python keyword.\n"
     ]
    }
   ],
   "source": [
    "# 4 Write a program that checks if a given word is a Python keyword\n",
    "import keyword\n",
    "word = input(\"Enter a word to check if it's python keyword:\")\n",
    "if keyword.iskeyword(word):\n",
    "    print(f\"'{word}' is a Python keyword.\")\n",
    "else:\n",
    "    print(f\"'{word}' is not a Python keyword.\")\n"
   ]
  },
  {
   "cell_type": "code",
   "execution_count": 17,
   "id": "296a0152-d02d-4ddb-a179-0accf5ec404d",
   "metadata": {},
   "outputs": [
    {
     "name": "stdout",
     "output_type": "stream",
     "text": [
      "[3, 4, 5, 6, 3]\n"
     ]
    }
   ],
   "source": [
    "# 5 Create a list and tuple in Python, and demonstrate how attempting to change an element works differently for each\n",
    "l = [3, 4, 5, 6]\n",
    "l.append(3)\n",
    "print(l)\n",
    "#List can modify elements because list is mutable.\n"
   ]
  },
  {
   "cell_type": "code",
   "execution_count": 18,
   "id": "cf8ad90f-fe90-4c21-8fb2-d21ca5362317",
   "metadata": {},
   "outputs": [
    {
     "ename": "AttributeError",
     "evalue": "'tuple' object has no attribute 'append'",
     "output_type": "error",
     "traceback": [
      "\u001b[1;31m---------------------------------------------------------------------------\u001b[0m",
      "\u001b[1;31mAttributeError\u001b[0m                            Traceback (most recent call last)",
      "Cell \u001b[1;32mIn[18], line 2\u001b[0m\n\u001b[0;32m      1\u001b[0m s \u001b[38;5;241m=\u001b[39m (\u001b[38;5;241m1\u001b[39m, \u001b[38;5;241m2\u001b[39m, \u001b[38;5;241m3\u001b[39m, \u001b[38;5;241m4\u001b[39m)\n\u001b[1;32m----> 2\u001b[0m s\u001b[38;5;241m.\u001b[39mappend(\u001b[38;5;241m2\u001b[39m)\n\u001b[0;32m      3\u001b[0m \u001b[38;5;28mprint\u001b[39m(s)\n",
      "\u001b[1;31mAttributeError\u001b[0m: 'tuple' object has no attribute 'append'"
     ]
    }
   ],
   "source": [
    "s = (1, 2, 3, 4)\n",
    "s.append(2)\n",
    "print(s)\n",
    "#tuple can't modify elements because tuple is immutable."
   ]
  },
  {
   "cell_type": "code",
   "execution_count": 19,
   "id": "6170099b-8b0a-4d20-bce0-e245df17750f",
   "metadata": {},
   "outputs": [
    {
     "name": "stdout",
     "output_type": "stream",
     "text": [
      "Original num (immutable): 10\n",
      "Inside function (immutable changed): 20\n",
      "Outside function (immutable remains unchanged): 10\n",
      "\n",
      "Original l (mutable): [1, 2, 3]\n",
      "Inside function (mutable changed): [1, 2, 3, 4]\n",
      "Outside function (mutable modified): [1, 2, 3, 4]\n"
     ]
    }
   ],
   "source": [
    "# 6  Write a function to demonstrate the behavior of mutable and immutable arguments.\n",
    "def demonstrate_mutable_immutable():\n",
    "    \n",
    "    num = 10\n",
    "    print(f\"Original num (immutable): {num}\")\n",
    "    def change_immutable(val):\n",
    "        val = 20  \n",
    "        print(f\"Inside function (immutable changed): {val}\")\n",
    "    \n",
    "    change_immutable(num)\n",
    "    print(f\"Outside function (immutable remains unchanged): {num}\")\n",
    "\n",
    "    \n",
    "    l = [1, 2, 3]\n",
    "    print(f\"\\nOriginal l (mutable): {l}\")\n",
    "    def change_mutable(lst):\n",
    "        lst.append(4)  \n",
    "        print(f\"Inside function (mutable changed): {lst}\")\n",
    "    \n",
    "    change_mutable(l)\n",
    "    print(f\"Outside function (mutable modified): {l}\")\n",
    "\n",
    "\n",
    "demonstrate_mutable_immutable()\n",
    "\n",
    "\n",
    "\n",
    "\n"
   ]
  },
  {
   "cell_type": "code",
   "execution_count": 24,
   "id": "39ae8ac3-02b6-473a-8ffa-9b943d0602a5",
   "metadata": {},
   "outputs": [
    {
     "name": "stdout",
     "output_type": "stream",
     "text": [
      "You are eligible to drive.\n",
      "You can drive.\n",
      "You are not a student.\n",
      "You are either eligible to drive or are a student eligible for discounts.\n"
     ]
    }
   ],
   "source": [
    "# 8 Write a program to demonstrate the use of logical operators\n",
    "\n",
    "def demonstrate_logical_operators():\n",
    "    age = 25\n",
    "    has_license = True\n",
    "    is_student = False\n",
    "    \n",
    "    # Using `and` logical operator\n",
    "    if age > 18 and has_license:\n",
    "        print(\"You are eligible to drive.\")\n",
    "    else:\n",
    "        print(\"You are not eligible to drive.\")\n",
    "    \n",
    "    # Using `or` logical operator\n",
    "    if age < 18 or not has_license:\n",
    "        print(\"You cannot drive yet.\")\n",
    "    else:\n",
    "        print(\"You can drive.\")\n",
    "    \n",
    "    # Using `not` logical operator\n",
    "    if not is_student:\n",
    "        print(\"You are not a student.\")\n",
    "    else:\n",
    "        print(\"You are a student.\")\n",
    "    \n",
    "    # Combining `and`, `or`, and `not`\n",
    "    if age >= 18 and (has_license or is_student):\n",
    "        print(\"You are either eligible to drive or are a student eligible for discounts.\")\n",
    "    else:\n",
    "        print(\"You are not eligible for any benefits.\")\n",
    "        \n",
    "demonstrate_logical_operators()\n",
    "\n",
    "    "
   ]
  },
  {
   "cell_type": "code",
   "execution_count": 36,
   "id": "eea95e47-854e-4192-82d6-5264e537d6d6",
   "metadata": {},
   "outputs": [
    {
     "name": "stdin",
     "output_type": "stream",
     "text": [
      "Enter a value:  34\n"
     ]
    },
    {
     "name": "stdout",
     "output_type": "stream",
     "text": [
      "Converted to integer: 34\n",
      "Converted to float: 34.0\n",
      "The input cannot be directly converted to a boolean.\n"
     ]
    }
   ],
   "source": [
    "# 9 Write a Python program to convert user input from string to integer, float, and boolean types.\n",
    "def convert_input():\n",
    "    # Get user input as a string\n",
    "    user_input = input(\"Enter a value: \")\n",
    "\n",
    "    # Convert string to integer\n",
    "    try:\n",
    "        integer_value = int(user_input)\n",
    "        print(f\"Converted to integer: {integer_value}\")\n",
    "    except ValueError:\n",
    "        print(\"The input cannot be converted to an integer:\")\n",
    "    \n",
    "    # Convert string to float\n",
    "    try:\n",
    "        float_value = float(user_input)\n",
    "        print(f\"Converted to float: {float_value}\")\n",
    "    except ValueError:\n",
    "        print(\"The input cannot be converted to a float:\")\n",
    "    \n",
    "    # Convert string to boolean\n",
    "    \n",
    "    if user_input.lower() == 'true':\n",
    "        boolean_value = True\n",
    "        print(f\"Converted to boolean: {boolean_value}\")\n",
    "    elif user_input.lower() == 'false':\n",
    "        boolean_value = False\n",
    "        print(f\"Converted to boolean: {boolean_value}\")\n",
    "    else:\n",
    "        print(\"The input cannot be directly converted to a boolean.\")\n",
    "\n",
    "\n",
    "convert_input()\n",
    "\n"
   ]
  },
  {
   "cell_type": "code",
   "execution_count": 48,
   "id": "68828e1b-dd54-428e-b15d-a978f9e30b57",
   "metadata": {},
   "outputs": [
    {
     "name": "stdout",
     "output_type": "stream",
     "text": [
      "List after converting to integers: [1, 2, 3, 4, 5]\n",
      "List after converting to floats: [1.0, 2.0, 3.5, 4.0, 5.67]\n",
      "List after converting to strings: ['1', '2', '3.5', '4', '5.67']\n",
      "Set of integers: {1, 2, 4}\n",
      "Tuple of floats: (1.0, 2.0, 3.5, 4.0, 5.67)\n"
     ]
    }
   ],
   "source": [
    "#10 Write code to demonstrate type casting with list element\n",
    "  \n",
    "str_list = [\"1\", \"2\", \"3.5\", \"4\", \"5.67\"]\n",
    "\n",
    "int_list = [int(item) if '.' not in item else int(float(item)) for item in str_list]\n",
    "print(\"List after converting to integers:\", int_list)\n",
    "\n",
    "float_list = [float(item) for item in str_list]\n",
    "print(\"List after converting to floats:\", float_list)\n",
    "\n",
    "string_list = [str(item) for item in str_list]\n",
    "print(\"List after converting to strings:\", string_list)\n",
    "\n",
    "set_of_ints = {int(item) for item in str_list if '.' not in item}\n",
    "print(\"Set of integers:\", set_of_ints)\n",
    "\n",
    "tuple_of_floats = tuple(float(item) for item in str_list)\n",
    "print(\"Tuple of floats:\", tuple_of_floats)\n",
    "\n"
   ]
  },
  {
   "cell_type": "code",
   "execution_count": 49,
   "id": "c106cdec-c86f-4807-9dd6-34186bfd44f3",
   "metadata": {},
   "outputs": [
    {
     "name": "stdin",
     "output_type": "stream",
     "text": [
      "Enter a number:  3\n"
     ]
    },
    {
     "name": "stdout",
     "output_type": "stream",
     "text": [
      "The number is positive.\n"
     ]
    }
   ],
   "source": [
    "# 11 Write a program that checks if a number is positive, negative, or zero\n",
    "\n",
    "number = int(input(\"Enter a number: \"))\n",
    "\n",
    "\n",
    "if number > 0:\n",
    "    print(\"The number is positive.\")\n",
    "elif number < 0:\n",
    "    print(\"The number is negative.\")\n",
    "else:\n",
    "    print(\"The number is zero.\")\n"
   ]
  },
  {
   "cell_type": "code",
   "execution_count": 62,
   "id": "08499fcc-36f1-4a8a-9d18-03255c674baa",
   "metadata": {},
   "outputs": [
    {
     "name": "stdout",
     "output_type": "stream",
     "text": [
      "1\n",
      "2\n",
      "3\n",
      "4\n",
      "5\n",
      "6\n",
      "7\n",
      "8\n",
      "9\n",
      "10\n"
     ]
    }
   ],
   "source": [
    "# 12 Write a for loop to print numbers from 1 to 10\n",
    "\n",
    "for i in range(1, 11):\n",
    "    print(i)\n",
    "        \n"
   ]
  },
  {
   "cell_type": "code",
   "execution_count": 63,
   "id": "0e0ac0bd-fa47-47a5-8184-1b9797472005",
   "metadata": {},
   "outputs": [
    {
     "name": "stdin",
     "output_type": "stream",
     "text": [
      "Enter the number 50\n"
     ]
    },
    {
     "name": "stdout",
     "output_type": "stream",
     "text": [
      "1275\n"
     ]
    }
   ],
   "source": [
    "# 13 Write a Python program to find the sum of all even numbers between 1 and 50.\n",
    "n = int(input(\"Enter the number\"))\n",
    "i = 1\n",
    "sum = 0\n",
    "while (i<=n):\n",
    "    sum += i\n",
    "    i += 1\n",
    "print(sum)"
   ]
  },
  {
   "cell_type": "code",
   "execution_count": 67,
   "id": "52a199e3-3c50-4788-afcd-ee5a66873837",
   "metadata": {},
   "outputs": [
    {
     "name": "stdin",
     "output_type": "stream",
     "text": [
      "Enter a string:  i'm a good girl\n"
     ]
    },
    {
     "name": "stdout",
     "output_type": "stream",
     "text": [
      "Reversed string: lrig doog a m'i\n"
     ]
    }
   ],
   "source": [
    "# 14 Write a program to reverse a string using a while loop.\n",
    "\n",
    "string = input(\"Enter a string: \")\n",
    "reversed_string = \"\"\n",
    "index = len(string) - 1\n",
    "while index >= 0:\n",
    "    reversed_string += string[index]  \n",
    "    index -= 1  \n",
    "print(\"Reversed string:\", reversed_string)\n",
    "\n",
    "    "
   ]
  },
  {
   "cell_type": "code",
   "execution_count": 68,
   "id": "abc4eab7-35bc-4f5e-b71d-35ac6a195402",
   "metadata": {},
   "outputs": [
    {
     "name": "stdin",
     "output_type": "stream",
     "text": [
      "Enter the number:  9\n"
     ]
    },
    {
     "name": "stdout",
     "output_type": "stream",
     "text": [
      "The factorial of 9 is 362880\n"
     ]
    }
   ],
   "source": [
    "# 15 Write a Python program to calculate the factorial of a number provided by the user using a while loop.\n",
    "n = int(input(\"Enter the number: \"))\n",
    "product = 1\n",
    "for i in range(1, n+1):\n",
    "    product = product * i\n",
    "\n",
    "print(f\"The factorial of {n} is {product}\")"
   ]
  },
  {
   "cell_type": "code",
   "execution_count": null,
   "id": "71162d3b-bab0-4298-a200-2b2133ca330c",
   "metadata": {},
   "outputs": [],
   "source": []
  }
 ],
 "metadata": {
  "kernelspec": {
   "display_name": "Python 3 (ipykernel)",
   "language": "python",
   "name": "python3"
  },
  "language_info": {
   "codemirror_mode": {
    "name": "ipython",
    "version": 3
   },
   "file_extension": ".py",
   "mimetype": "text/x-python",
   "name": "python",
   "nbconvert_exporter": "python",
   "pygments_lexer": "ipython3",
   "version": "3.12.7"
  }
 },
 "nbformat": 4,
 "nbformat_minor": 5
}
